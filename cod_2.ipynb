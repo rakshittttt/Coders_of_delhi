{
 "cells": [
  {
   "cell_type": "code",
   "execution_count": 2,
   "id": "e193e97a-9327-432f-8352-1a45d090d0ff",
   "metadata": {},
   "outputs": [],
   "source": [
    "import json"
   ]
  },
  {
   "cell_type": "code",
   "execution_count": 36,
   "id": "192a7780-a9cc-4912-954b-ec165689574f",
   "metadata": {},
   "outputs": [],
   "source": [
    "def cleaned_data(data):\n",
    "    #removing names which has an empty string\n",
    "    data['users']=[ i for i in data['users'] if i['name'].strip()]\n",
    "    #removing duplicate values from friends\n",
    "    for i in data['users']:\n",
    "        i['friends']= list(set(i['friends']))\n",
    "    #removing inactive users\n",
    "    data['users']=[ i for i in data['users'] if i['liked_pages'] or i['friends']]\n",
    "    #removing duplicate pages\n",
    "    unique_pages={}\n",
    "    for i in data['pages']:\n",
    "        unique_pages[i['id']]= i\n",
    "    data['pages']= list(unique_pages.values())\n",
    "    return data"
   ]
  },
  {
   "cell_type": "code",
   "execution_count": 34,
   "id": "5857d808-cdc5-4891-aca9-742de62e7e1c",
   "metadata": {},
   "outputs": [],
   "source": [
    "data=json.load(open(\"data2.json\",'r'))\n",
    "data= cleaned_data(data)"
   ]
  },
  {
   "cell_type": "code",
   "execution_count": 35,
   "id": "43c1c6db-5b50-4517-ba44-fe51d4df4719",
   "metadata": {},
   "outputs": [
    {
     "name": "stdout",
     "output_type": "stream",
     "text": [
      "the data has been cleaned\n"
     ]
    }
   ],
   "source": [
    "json.dump(data, open(\"cleaned_data2.json\", 'w'), indent=4)\n",
    "print(\"the data has been cleaned\")"
   ]
  },
  {
   "cell_type": "code",
   "execution_count": null,
   "id": "fba6b702-f67c-4050-bf4c-64a73c388780",
   "metadata": {},
   "outputs": [],
   "source": []
  },
  {
   "cell_type": "code",
   "execution_count": null,
   "id": "415705ee-4ca6-444d-8462-083fb9a5fc2f",
   "metadata": {},
   "outputs": [],
   "source": []
  }
 ],
 "metadata": {
  "kernelspec": {
   "display_name": "Python [conda env:base] *",
   "language": "python",
   "name": "conda-base-py"
  },
  "language_info": {
   "codemirror_mode": {
    "name": "ipython",
    "version": 3
   },
   "file_extension": ".py",
   "mimetype": "text/x-python",
   "name": "python",
   "nbconvert_exporter": "python",
   "pygments_lexer": "ipython3",
   "version": "3.13.5"
  }
 },
 "nbformat": 4,
 "nbformat_minor": 5
}
