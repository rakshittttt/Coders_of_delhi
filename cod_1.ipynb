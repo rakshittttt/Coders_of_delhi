{
 "cells": [
  {
   "cell_type": "code",
   "execution_count": 1,
   "id": "69bd0985-fdb7-4c78-b58a-3d741038061f",
   "metadata": {},
   "outputs": [],
   "source": [
    "import json "
   ]
  },
  {
   "cell_type": "code",
   "execution_count": 3,
   "id": "b58e0303-8744-40c9-aadb-dc673c7c9f2c",
   "metadata": {},
   "outputs": [],
   "source": [
    "def load_data(filename):\n",
    "    with open(filename, 'r') as f:\n",
    "        data=json.load(f)\n",
    "    return data"
   ]
  },
  {
   "cell_type": "code",
   "execution_count": 4,
   "id": "4c621111-6063-42a3-a449-2071be4a5de7",
   "metadata": {},
   "outputs": [],
   "source": [
    "data= load_data(\"data.json\")"
   ]
  },
  {
   "cell_type": "code",
   "execution_count": 5,
   "id": "f5734b38-61e9-4373-b807-f6d133aa34c5",
   "metadata": {},
   "outputs": [
    {
     "data": {
      "text/plain": [
       "{'users': [{'id': 1, 'name': 'Amit', 'friends': [2, 3], 'liked_pages': [101]},\n",
       "  {'id': 2, 'name': 'Priya', 'friends': [1, 4], 'liked_pages': [102]},\n",
       "  {'id': 3, 'name': 'Rahul', 'friends': [1], 'liked_pages': [101, 103]},\n",
       "  {'id': 4, 'name': 'Sara', 'friends': [2], 'liked_pages': [104]}],\n",
       " 'pages': [{'id': 101, 'name': 'Python Developers'},\n",
       "  {'id': 102, 'name': 'Data Science Enthusiasts'},\n",
       "  {'id': 103, 'name': 'AI & ML Community'},\n",
       "  {'id': 104, 'name': 'Web Dev Hub'}]}"
      ]
     },
     "execution_count": 5,
     "metadata": {},
     "output_type": "execute_result"
    }
   ],
   "source": [
    "data "
   ]
  },
  {
   "cell_type": "code",
   "execution_count": 6,
   "id": "49a5c17c-bc07-4651-9b66-3a81cdd1a000",
   "metadata": {},
   "outputs": [
    {
     "data": {
      "text/plain": [
       "dict"
      ]
     },
     "execution_count": 6,
     "metadata": {},
     "output_type": "execute_result"
    }
   ],
   "source": [
    "type(data)"
   ]
  },
  {
   "cell_type": "code",
   "execution_count": 19,
   "id": "862b813a-9c58-4940-afb9-be6d219663ff",
   "metadata": {},
   "outputs": [],
   "source": [
    "def display_users(data):\n",
    "    print(\"users and their connections: \\n\")\n",
    "    for user in data['users']:\n",
    "        print(f\"Person ID is {user['id']} and the name is {user['name']} and is friends with {user['friends']} and liked pages are {user['liked_pages']}\")\n",
    "    print(\"\\npages information\")\n",
    "    for page in data['pages']:\n",
    "        print(f\"{page['id']} has the name of {page['name']}\")\n",
    "    print(\"\\nfriends information\")\n",
    "    for fr in data['users']:\n",
    "        print(f\"{fr['id']} refers to {fr['name']}\")"
   ]
  },
  {
   "cell_type": "code",
   "execution_count": 20,
   "id": "2573f07f-2b1e-44b3-93c1-f5a60db5b459",
   "metadata": {},
   "outputs": [
    {
     "name": "stdout",
     "output_type": "stream",
     "text": [
      "users and their connections: \n",
      "\n",
      "Person ID is 1 and the name is Amit and is friends with [2, 3] and liked pages are [101]\n",
      "Person ID is 2 and the name is Priya and is friends with [1, 4] and liked pages are [102]\n",
      "Person ID is 3 and the name is Rahul and is friends with [1] and liked pages are [101, 103]\n",
      "Person ID is 4 and the name is Sara and is friends with [2] and liked pages are [104]\n",
      "\n",
      "pages information\n",
      "101 has the name of Python Developers\n",
      "102 has the name of Data Science Enthusiasts\n",
      "103 has the name of AI & ML Community\n",
      "104 has the name of Web Dev Hub\n",
      "\n",
      "friends information\n",
      "1 refers to Amit\n",
      "2 refers to Priya\n",
      "3 refers to Rahul\n",
      "4 refers to Sara\n"
     ]
    }
   ],
   "source": [
    "display_users(data)"
   ]
  },
  {
   "cell_type": "code",
   "execution_count": null,
   "id": "a41ff40b-9656-4d92-a457-a3367fb03e33",
   "metadata": {},
   "outputs": [],
   "source": []
  }
 ],
 "metadata": {
  "kernelspec": {
   "display_name": "Python [conda env:base] *",
   "language": "python",
   "name": "conda-base-py"
  },
  "language_info": {
   "codemirror_mode": {
    "name": "ipython",
    "version": 3
   },
   "file_extension": ".py",
   "mimetype": "text/x-python",
   "name": "python",
   "nbconvert_exporter": "python",
   "pygments_lexer": "ipython3",
   "version": "3.13.5"
  }
 },
 "nbformat": 4,
 "nbformat_minor": 5
}
