{
 "cells": [
  {
   "cell_type": "code",
   "execution_count": 12,
   "id": "5edcdf8e-49c5-4ec9-96ce-2678b2b27ca1",
   "metadata": {},
   "outputs": [],
   "source": [
    "import json\n",
    "def load_data(filename):\n",
    "    with open(filename, 'r') as f:\n",
    "        data= json.load(f)\n",
    "    return data \n",
    "\n",
    "def people_you_may_know(user_id, data):\n",
    "    user_friends={}\n",
    "    for i in data['users']:\n",
    "        user_friends[i['id']]= set(i['friends'])\n",
    "    if user_id not in user_friends:\n",
    "        return []\n",
    "\n",
    "    direct_friends=user_friends[user_id]\n",
    "    suggestions={}\n",
    "\n",
    "    for i in direct_friends:\n",
    "        for mutual in user_friends[i]:\n",
    "            if mutual!=user_id and mutual not in direct_friends:\n",
    "                suggestions[mutual]= suggestions.get(mutual,0) +1\n",
    "\n",
    "    sorted_suggestions= sorted(suggestions.items(), key=lambda x: x[1], reverse=True)\n",
    "    return [user_id for user_id , mutual_count in sorted_suggestions]\n",
    "                \n",
    "            "
   ]
  },
  {
   "cell_type": "code",
   "execution_count": 14,
   "id": "f326a9a9-34da-410d-a110-6d1663bfae4e",
   "metadata": {},
   "outputs": [
    {
     "name": "stdout",
     "output_type": "stream",
     "text": [
      "[7, 8, 9, 10, 11, 12]\n"
     ]
    }
   ],
   "source": [
    "data= load_data(\"massive_data.json\")\n",
    "user_id=1\n",
    "result=people_you_may_know(user_id,data)\n",
    "print(result)"
   ]
  },
  {
   "cell_type": "code",
   "execution_count": 8,
   "id": "28f2691a-b163-4968-a430-42b3bd552e43",
   "metadata": {},
   "outputs": [
    {
     "data": {
      "text/plain": [
       "{'users': [{'id': 1, 'name': 'Amit', 'friends': [2, 3], 'liked_pages': [101]},\n",
       "  {'id': 2, 'name': 'Priya', 'friends': [1, 4], 'liked_pages': [102]},\n",
       "  {'id': 3, 'name': 'Rahul', 'friends': [1], 'liked_pages': [101, 103]},\n",
       "  {'id': 4, 'name': 'Sara', 'friends': [2], 'liked_pages': [104]}],\n",
       " 'pages': [{'id': 101, 'name': 'Python Developers'},\n",
       "  {'id': 102, 'name': 'Data Science Enthusiasts'},\n",
       "  {'id': 103, 'name': 'AI & ML Community'},\n",
       "  {'id': 104, 'name': 'Web Dev Hub'}]}"
      ]
     },
     "execution_count": 8,
     "metadata": {},
     "output_type": "execute_result"
    }
   ],
   "source": [
    "data"
   ]
  },
  {
   "cell_type": "code",
   "execution_count": null,
   "id": "e9e87455-43a9-4c70-9eaf-f4818b5aa742",
   "metadata": {},
   "outputs": [],
   "source": []
  }
 ],
 "metadata": {
  "kernelspec": {
   "display_name": "Python [conda env:base] *",
   "language": "python",
   "name": "conda-base-py"
  },
  "language_info": {
   "codemirror_mode": {
    "name": "ipython",
    "version": 3
   },
   "file_extension": ".py",
   "mimetype": "text/x-python",
   "name": "python",
   "nbconvert_exporter": "python",
   "pygments_lexer": "ipython3",
   "version": "3.13.5"
  }
 },
 "nbformat": 4,
 "nbformat_minor": 5
}
