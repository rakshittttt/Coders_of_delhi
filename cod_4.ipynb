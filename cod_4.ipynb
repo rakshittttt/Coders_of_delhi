{
 "cells": [
  {
   "cell_type": "code",
   "execution_count": 1,
   "id": "eae6bfe8-3fdc-4330-ab58-d74a4413f3f4",
   "metadata": {},
   "outputs": [],
   "source": [
    "import json"
   ]
  },
  {
   "cell_type": "code",
   "execution_count": 6,
   "id": "fabe7a12-b2af-43ac-ae83-dc798264094c",
   "metadata": {},
   "outputs": [
    {
     "data": {
      "text/plain": [
       "[103,\n",
       " 105,\n",
       " 107,\n",
       " 104,\n",
       " 106,\n",
       " 108,\n",
       " 109,\n",
       " 110,\n",
       " 111,\n",
       " 112,\n",
       " 113,\n",
       " 114,\n",
       " 115,\n",
       " 116,\n",
       " 117,\n",
       " 118,\n",
       " 119,\n",
       " 120,\n",
       " 121,\n",
       " 122,\n",
       " 123,\n",
       " 124,\n",
       " 125,\n",
       " 126,\n",
       " 127]"
      ]
     },
     "execution_count": 6,
     "metadata": {},
     "output_type": "execute_result"
    }
   ],
   "source": [
    "def load_data(filename):\n",
    "    with open(filename, 'r') as f:\n",
    "        data=json.load(f)\n",
    "    return data\n",
    "\n",
    "def pages_you_might_like(user_id,data):\n",
    "    user_pages={}\n",
    "    for user in data['users']:\n",
    "        user_pages[user['id']]=set(user['liked_pages'])\n",
    "    if user_id not in user_pages:\n",
    "        return []\n",
    "    user_liked_pages=user_pages[user_id]\n",
    "    page_suggestion={}\n",
    "    for other_user, pages in user_pages.items():\n",
    "        if other_user != user_id:\n",
    "            shared_pages= user_liked_pages.intersection(pages)\n",
    "        for page in pages:\n",
    "            if page not in user_liked_pages:\n",
    "                page_suggestion[page]=page_suggestion.get(page,0)+len(shared_pages)\n",
    "\n",
    "    sorted_pages= sorted(page_suggestion.items(), key=lambda x: x[1], reverse=True)\n",
    "    return [page_id for page_id, _ in sorted_pages]\n",
    "\n",
    "\n",
    "\n",
    "data= load_data(\"massive_data.json\")\n",
    "pages_you_might_like(1,data)"
   ]
  },
  {
   "cell_type": "code",
   "execution_count": null,
   "id": "ddc822c9-ac71-4a62-9d3d-88254c15829a",
   "metadata": {},
   "outputs": [],
   "source": []
  }
 ],
 "metadata": {
  "kernelspec": {
   "display_name": "Python [conda env:base] *",
   "language": "python",
   "name": "conda-base-py"
  },
  "language_info": {
   "codemirror_mode": {
    "name": "ipython",
    "version": 3
   },
   "file_extension": ".py",
   "mimetype": "text/x-python",
   "name": "python",
   "nbconvert_exporter": "python",
   "pygments_lexer": "ipython3",
   "version": "3.13.5"
  }
 },
 "nbformat": 4,
 "nbformat_minor": 5
}
