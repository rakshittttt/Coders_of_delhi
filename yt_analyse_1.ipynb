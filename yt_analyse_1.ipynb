{
 "cells": [
  {
   "cell_type": "code",
   "execution_count": 1,
   "id": "5b65a7cf-d839-457c-8d5e-b92e44128afa",
   "metadata": {},
   "outputs": [],
   "source": [
    "import json "
   ]
  },
  {
   "cell_type": "code",
   "execution_count": 18,
   "id": "7ab49503-4509-451b-b28c-77683f196d0b",
   "metadata": {},
   "outputs": [],
   "source": [
    "def load_channel(filename):\n",
    "    with open(filename, 'r') as f:\n",
    "        data= json.load(f)\n",
    "    return data"
   ]
  },
  {
   "cell_type": "code",
   "execution_count": 19,
   "id": "755e11af-929b-4205-b8f9-20c8bd89f198",
   "metadata": {},
   "outputs": [],
   "source": [
    "things= load_channel(\"yt.json\")"
   ]
  },
  {
   "cell_type": "code",
   "execution_count": 20,
   "id": "93227499-9035-415e-abad-df5a1cd46b2f",
   "metadata": {},
   "outputs": [
    {
     "data": {
      "text/plain": [
       "{'users': [{'id': 1,\n",
       "   'name': 'Amit',\n",
       "   'each_other': [2, 3],\n",
       "   'likes': [1000],\n",
       "   'videos': 1,\n",
       "   'subscribers': 1000},\n",
       "  {'id': 2,\n",
       "   'name': 'Priya',\n",
       "   'each_other': [1, 4],\n",
       "   'likes': [2000],\n",
       "   'videos': 1,\n",
       "   'subscribers': 1500},\n",
       "  {'id': 3,\n",
       "   'name': 'Rahul',\n",
       "   'each_other': [1],\n",
       "   'likes': [4000, 5000],\n",
       "   'videos': 2,\n",
       "   'subscribers': 500},\n",
       "  {'id': 4,\n",
       "   'name': 'Sara',\n",
       "   'each_other': [2],\n",
       "   'likes': [7000],\n",
       "   'videos': 1,\n",
       "   'subscribers': 50}],\n",
       " 'pages': [{'channel_id': 101,\n",
       "   'channel_name': 'Python Developers',\n",
       "   'holder_name': 'Amit'},\n",
       "  {'channel_id': 102,\n",
       "   'channel_name': 'Data Science Enthusiasts',\n",
       "   'holder_name': 'Priya'},\n",
       "  {'channel_id': 103,\n",
       "   'channel_name': 'AI & ML Community',\n",
       "   'holder_name': 'Rahul'},\n",
       "  {'channel_id': 104, 'channel_name': 'Web Dev Hub', 'holder_name': 'Sara'}]}"
      ]
     },
     "execution_count": 20,
     "metadata": {},
     "output_type": "execute_result"
    }
   ],
   "source": [
    "things"
   ]
  },
  {
   "cell_type": "code",
   "execution_count": 27,
   "id": "d02e6884-d64c-430d-b582-401b8b5c73ea",
   "metadata": {},
   "outputs": [
    {
     "name": "stdout",
     "output_type": "stream",
     "text": [
      "and that is it\n"
     ]
    }
   ],
   "source": [
    "def load_subscribers(data):\n",
    "    print(\"list of how many subscribers does each person have\")\n",
    "    for i in things['users']:\n",
    "        print(f\"{i['name']} has {i['subscribers']} subscribers\")\n",
    "    print(\"\\nlets see if they are subscribed to each other\\n\")\n",
    "    for i in things['users']:\n",
    "        print(f\"{i['name']} has subscribed to {i['each_other']}\")\n",
    "    print(\"\\nthe id list is given below:\\n\")\n",
    "    for i in things['users']:\n",
    "        print(f\"{i['id']} has a name {i['name']}\")\n",
    "    print(\"\\nlets figure out the channel id and channel name of each person\\n\")\n",
    "    for i in things['users']:\n",
    "        for j in things['pages']:\n",
    "            print(f\"{i['name']} has a channel id of {j['channel_id']} and channel's name is {j['channel_name']}\")\n",
    "print(\"and that is it\")"
   ]
  },
  {
   "cell_type": "code",
   "execution_count": 28,
   "id": "b0c63427-a9cf-4b95-a067-ed0288c78f36",
   "metadata": {},
   "outputs": [
    {
     "name": "stdout",
     "output_type": "stream",
     "text": [
      "list of how many subscribers does each person have\n",
      "Amit has 1000 subscribers\n",
      "Priya has 1500 subscribers\n",
      "Rahul has 500 subscribers\n",
      "Sara has 50 subscribers\n",
      "\n",
      "lets see if they are subscribed to each other\n",
      "\n",
      "Amit has subscribed to [2, 3]\n",
      "Priya has subscribed to [1, 4]\n",
      "Rahul has subscribed to [1]\n",
      "Sara has subscribed to [2]\n",
      "\n",
      "the id list is given below:\n",
      "\n",
      "1 has a name Amit\n",
      "2 has a name Priya\n",
      "3 has a name Rahul\n",
      "4 has a name Sara\n",
      "\n",
      "lets figure out the channel id and channel name of each person\n",
      "\n",
      "Amit has a channel id of 101 and channel's name is Python Developers\n",
      "Amit has a channel id of 102 and channel's name is Data Science Enthusiasts\n",
      "Amit has a channel id of 103 and channel's name is AI & ML Community\n",
      "Amit has a channel id of 104 and channel's name is Web Dev Hub\n",
      "Priya has a channel id of 101 and channel's name is Python Developers\n",
      "Priya has a channel id of 102 and channel's name is Data Science Enthusiasts\n",
      "Priya has a channel id of 103 and channel's name is AI & ML Community\n",
      "Priya has a channel id of 104 and channel's name is Web Dev Hub\n",
      "Rahul has a channel id of 101 and channel's name is Python Developers\n",
      "Rahul has a channel id of 102 and channel's name is Data Science Enthusiasts\n",
      "Rahul has a channel id of 103 and channel's name is AI & ML Community\n",
      "Rahul has a channel id of 104 and channel's name is Web Dev Hub\n",
      "Sara has a channel id of 101 and channel's name is Python Developers\n",
      "Sara has a channel id of 102 and channel's name is Data Science Enthusiasts\n",
      "Sara has a channel id of 103 and channel's name is AI & ML Community\n",
      "Sara has a channel id of 104 and channel's name is Web Dev Hub\n"
     ]
    }
   ],
   "source": [
    "load_subscribers(things)"
   ]
  },
  {
   "cell_type": "code",
   "execution_count": null,
   "id": "60d7b754-d35f-47b7-ab30-38a0478e4603",
   "metadata": {},
   "outputs": [],
   "source": []
  },
  {
   "cell_type": "code",
   "execution_count": null,
   "id": "22ec2b7b-938c-40cc-b253-14cd553198b3",
   "metadata": {},
   "outputs": [],
   "source": []
  }
 ],
 "metadata": {
  "kernelspec": {
   "display_name": "Python [conda env:base] *",
   "language": "python",
   "name": "conda-base-py"
  },
  "language_info": {
   "codemirror_mode": {
    "name": "ipython",
    "version": 3
   },
   "file_extension": ".py",
   "mimetype": "text/x-python",
   "name": "python",
   "nbconvert_exporter": "python",
   "pygments_lexer": "ipython3",
   "version": "3.13.5"
  }
 },
 "nbformat": 4,
 "nbformat_minor": 5
}
